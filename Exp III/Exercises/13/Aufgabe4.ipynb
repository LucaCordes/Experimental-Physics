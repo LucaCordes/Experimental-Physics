{
 "cells": [
  {
   "cell_type": "markdown",
   "id": "97a72d85-e311-41dc-a2d0-5ea2322befab",
   "metadata": {},
   "source": [
    "# Aufgabe 4: Zustandsenergien endlicher Potentialtopf(10 pt) ***"
   ]
  },
  {
   "cell_type": "markdown",
   "id": "daaafd02-a963-4e4e-bc0c-952463cf31be",
   "metadata": {},
   "source": [
    " Den endlichen Potentialtopf haben Sie bereits auf dem vorrigen Übungsblatt kennen gelernt.\n",
    "  Eine übliche Parameterisierung für das Potential lautet:\n",
    "\n",
    "  $$ V(x) = \\begin{cases}\n",
    "      V_0 & \\text{für} \\: x \\in \\left[-L/2, \\, L/2\\right]\\\\\n",
    "      0 & \\text{sonst}\\\\\n",
    "      \\end{cases}, \\quad \\text{mit} \\: V_0 < 0\n",
    "  $$\n",
    "\n",
    "  Dies ist üblich weil so $E >0$ für ein freies Teilchen gilt.\n",
    "  Dann gilt für die Wellenfunktion eines Elektrons außerhalb des Topfes $\\propto e^{\\pm \\kappa x}$ mit\n",
    "  $$ \\kappa = \\sqrt{-\\frac{2m_e}{\\hbar^2} E} $$\n",
    "  und innerhalb des Topfes $\\propto e^{\\pm i k x}$ mit\n",
    "  $$ k = \\sqrt{\\frac{2m_e}{\\hbar^2} \\left(E - V_0 \\right)} $$\n",
    "\n",
    "  Damit gilt für symmetrische Lösungen:\n",
    "  $$ \\kappa = k \\tan \\left( \\frac{L}{2} k \\right) $$\n",
    "  und für antisymmetrische Lösungen:\n",
    "  $$ \\kappa = - k \\cot \\left( \\frac{L}{2} k \\right) $$\n",
    "\n",
    "  Lösen Sie beide Gleichungen für einen Potentialtopf mit $L = 6 \\, \\mathring A$ und $V_0 = -4 \\, \\mathrm{eV}$ entweder numerisch und oder grafisch.\n",
    "  Vergleichen Sie die der Lösungen entsprechenden Energien mit der Näherung für einen unendlich hohen Potentialtopf:\n",
    "  $$ E_n = \\frac{\\hbar^2 \\pi^2}{2 m_e L^2} n^2 - |V_0|$$"
   ]
  },
  {
   "cell_type": "code",
   "execution_count": 2,
   "id": "6fbff015-1696-4a2b-aade-582aaf29250f",
   "metadata": {},
   "outputs": [],
   "source": [
    "import numpy as np\n",
    "import matplotlib.pyplot as plt\n",
    "from matplotlib.ticker import (MultipleLocator, AutoMinorLocator)\n",
    "import scipy.constants as pcs\n",
    "from scipy.optimize import fsolve"
   ]
  },
  {
   "cell_type": "code",
   "execution_count": 43,
   "id": "07f9824b-832c-40ec-90b8-e974936cd7ff",
   "metadata": {},
   "outputs": [
    {
     "name": "stdout",
     "output_type": "stream",
     "text": [
      "Energieniveaus des unendlichen Potenzialkasten: \n",
      "\tE_n = [-4.735187684281048e-19, 2.8536887087580535e-20, 8.652963129470561e-19, 2.036759509150322e-18]\n",
      " \n",
      "Energieniveaus des endlichen Potenzialkasten: \n",
      "\tE_n = [array([-5.4680873e-19]), array([-2.82871858e-19])]\n",
      "\n",
      "Es fällt auf, dass es im endlichen Potenzialkasten nur endlich viele \n",
      "erlaubte Energieniveaus gibt, anders als im unendlichen Potenzialkasten. \n",
      "Außerdem ist das niedrigste Energieniveau im endlichen Potenzialkasten niedriger.\n"
     ]
    }
   ],
   "source": [
    "me = 9.109383e-31 # kg\n",
    "f = 2*me/(pcs.hbar**2)\n",
    "\n",
    "V0 = -4*pcs.e # J (-4 eV)\n",
    "L = 6e-10 # m (6 Angstrom)\n",
    "\n",
    "E_n = [np.pi**2 / L**2 / f * n**2 - np.abs(V0) for n in range(1,5)]\n",
    "\n",
    "def func(E, *args):\n",
    "    symmetric = args[0]\n",
    "    if E>=0 or E<=V0:\n",
    "        return 1e10\n",
    "    k_E = np.sqrt(f * (E - V0))\n",
    "    kappa_E = np.sqrt(-f * E)\n",
    "    kappa_k = (1 if symmetric else -1)*k_E*np.tan(L/2*k_E)**(1 if symmetric else -1)\n",
    "    return (kappa_E - kappa_k)\n",
    "\n",
    "roots =  [fsolve(func, V0*0.8, True),\n",
    "          fsolve(func, V0*0.5, False)]\n",
    "\n",
    "print(f\"Energieniveaus des unendlichen Potenzialkasten: \\n\\t{E_n = }\\n \")\n",
    "print(f\"Energieniveaus des endlichen Potenzialkasten: \\n\\tE_n = {roots}\")\n",
    "print(\"\"\"\\nEs fällt auf, dass es im endlichen Potenzialkasten nur endlich viele \n",
    "erlaubte Energieniveaus gibt, anders als im unendlichen Potenzialkasten. \n",
    "Außerdem ist das niedrigste Energieniveau im endlichen Potenzialkasten niedriger.\"\"\")\n"
   ]
  }
 ],
 "metadata": {
  "kernelspec": {
   "display_name": "Python 3 (ipykernel)",
   "language": "python",
   "name": "python3"
  },
  "language_info": {
   "codemirror_mode": {
    "name": "ipython",
    "version": 3
   },
   "file_extension": ".py",
   "mimetype": "text/x-python",
   "name": "python",
   "nbconvert_exporter": "python",
   "pygments_lexer": "ipython3",
   "version": "3.11.5"
  }
 },
 "nbformat": 4,
 "nbformat_minor": 5
}
