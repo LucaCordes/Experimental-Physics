{
 "cells": [
  {
   "cell_type": "code",
   "execution_count": 1,
   "metadata": {},
   "outputs": [],
   "source": [
    "import numpy as np\n",
    "import scipy.constants as c"
   ]
  },
  {
   "cell_type": "code",
   "execution_count": 52,
   "metadata": {},
   "outputs": [],
   "source": [
    "def J2eV(J):\n",
    "    return J / c.elementary_charge\n",
    "def m2angstrom(m): \n",
    "    return m * 1e10\n",
    "def kg2MolH2O(kg): \n",
    "    return kg / 18.01528e-3\n",
    "def eV2lambda(eV): \n",
    "    return c.h * c.c / c.elementary_charge / eV  \n",
    "def eV2f(eV): \n",
    "    return eV * c.elementary_charge / c.h\n",
    "def i(x):\n",
    "    return float(x)"
   ]
  },
  {
   "cell_type": "code",
   "execution_count": 53,
   "metadata": {},
   "outputs": [
    {
     "name": "stdout",
     "output_type": "stream",
     "text": [
      "i                   1.0       2.0       3.0       4.0       5.0       6.0       7.0       8.0       9.0      10.0\n",
      "J2eV(i)        6.24e+18  1.25e+19  1.87e+19   2.5e+19  3.12e+19  3.74e+19  4.37e+19  4.99e+19  5.62e+19  6.24e+19\n",
      "m2angstrom(i)     1e+10     2e+10     3e+10     4e+10     5e+10     6e+10     7e+10     8e+10     9e+10     1e+11\n",
      "kg2MolH2O(i)       55.5  1.11e+02  1.67e+02  2.22e+02  2.78e+02  3.33e+02  3.89e+02  4.44e+02     5e+02  5.55e+02\n",
      "eV2lambda(i)   1.24e-06   6.2e-07  4.13e-07   3.1e-07  2.48e-07  2.07e-07  1.77e-07  1.55e-07  1.38e-07  1.24e-07\n",
      "eV2f(i)        2.42e+14  4.84e+14  7.25e+14  9.67e+14  1.21e+15  1.45e+15  1.69e+15  1.93e+15  2.18e+15  2.42e+15\n"
     ]
    }
   ],
   "source": [
    "for f in [i, J2eV, m2angstrom, kg2MolH2O, eV2lambda, eV2f]:\n",
    "    print(f\"{f.__name__+(\"\" if f is i else \"(i)\"):13}\" , end=\"\")\n",
    "    for n in range(1,11):\n",
    "        print(f\"{f(n):10.3}\", end=\"\")\n",
    "    print(\"\")"
   ]
  }
 ],
 "metadata": {
  "kernelspec": {
   "display_name": "main",
   "language": "python",
   "name": "python3"
  },
  "language_info": {
   "codemirror_mode": {
    "name": "ipython",
    "version": 3
   },
   "file_extension": ".py",
   "mimetype": "text/x-python",
   "name": "python",
   "nbconvert_exporter": "python",
   "pygments_lexer": "ipython3",
   "version": "3.12.2"
  }
 },
 "nbformat": 4,
 "nbformat_minor": 2
}
