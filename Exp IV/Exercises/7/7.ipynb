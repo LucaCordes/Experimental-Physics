{
 "cells": [
  {
   "cell_type": "code",
   "execution_count": 57,
   "metadata": {},
   "outputs": [
    {
     "name": "stdout",
     "output_type": "stream",
     "text": [
      "\n",
      "Argon      (Z=18): 1s2 2s2 2p6 3s2 3p6 \n",
      "Sauerstoff (Z= 8): 1s2 2s2 2p4 \n",
      "Kupfer     (Z=29): 1s2 2s2 2p6 3s2 3p6 4s2 3d9 \n",
      "Krpyton    (Z=36): 1s2 2s2 2p6 3s2 3p6 4s2 3d10 4p6 \n",
      "Uran       (Z=92): 1s2 2s2 2p6 3s2 3p6 4s2 3d10 4p6 5s2 4d10 5p6 6s2 4f14 5d10 6p6 7s2 5f4 "
     ]
    }
   ],
   "source": [
    "import numpy as np\n",
    "\n",
    "tests = [[\"Argon\", 18],\n",
    "          [\"Sauerstoff\", 8],\n",
    "          [\"Kupfer\", 29],\n",
    "          [\"Krpyton\", 36],\n",
    "          [\"Uran\", 92]]\n",
    "\n",
    "def next_shell():\n",
    "    n,l = 0,0\n",
    "    yield n+1,l\n",
    "    while True:\n",
    "        if l==0:\n",
    "            n += 1\n",
    "            while l+1 <= n-1:\n",
    "                n, l = n-1, l+1\n",
    "        else: \n",
    "            n,l = n+1, l-1\n",
    "        yield n+1,l\n",
    "\n",
    "def orbital(Z):\n",
    "    spd = \"spdfghijklmno\"\n",
    "    nl = next_shell()\n",
    "    max_e = lambda l: 2*(2*l+1)\n",
    "\n",
    "    while Z>0:\n",
    "        n,l = next(nl)\n",
    "        electrons_used = min(Z, max_e(l))\n",
    "        Z -= electrons_used\n",
    "        print(f\"{n}{spd[l]}{electrons_used}\", end=\" \")\n",
    "\n",
    "for element, Z in tests:\n",
    "    print(f\"\\n{element:10} ({Z=:2}): \", end=\"\")\n",
    "    orbital(Z) \n",
    "\n",
    "# outputs:\n",
    "# Argon      (Z=18): 1s2 2s2 2p6 3s2 3p6 \n",
    "# Sauerstoff (Z= 8): 1s2 2s2 2p4 \n",
    "# Kupfer     (Z=29): 1s2 2s2 2p6 3s2 3p6 4s2 3d9 \n",
    "# Krpyton    (Z=36): 1s2 2s2 2p6 3s2 3p6 4s2 3d10 4p6 \n",
    "# Uran       (Z=92): 1s2 2s2 2p6 3s2 3p6 4s2 3d10 4p6 5s2 4d10 5p6 6s2 4f14 5d10 6p6 7s2 5f4\n"
   ]
  }
 ],
 "metadata": {
  "kernelspec": {
   "display_name": "main",
   "language": "python",
   "name": "python3"
  },
  "language_info": {
   "codemirror_mode": {
    "name": "ipython",
    "version": 3
   },
   "file_extension": ".py",
   "mimetype": "text/x-python",
   "name": "python",
   "nbconvert_exporter": "python",
   "pygments_lexer": "ipython3",
   "version": "3.12.2"
  }
 },
 "nbformat": 4,
 "nbformat_minor": 2
}
