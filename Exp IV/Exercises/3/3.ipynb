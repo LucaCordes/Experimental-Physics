{
 "cells": [
  {
   "cell_type": "code",
   "execution_count": 150,
   "metadata": {},
   "outputs": [],
   "source": [
    "import numpy as np\n",
    "import scipy.constants as c \n",
    "from scipy.optimize import curve_fit\n",
    "import scipy"
   ]
  },
  {
   "cell_type": "code",
   "execution_count": 79,
   "metadata": {},
   "outputs": [],
   "source": [
    "Lambda = np.array([[30.4, 25.6, 24.3, 23.4],\n",
    "                   [243.0, 205.0, 194.4, 189.8]]) * 1e-9\n",
    "E_exp = c.h * c.c / Lambda\n",
    "# E_r = lambda n, mu, Z:  - mu * Z**2 * c.e**4 / (32 * np.pi**2 * c.epsilon_0**2 * c.hbar * n**2)\n",
    "E = lambda n, m, mu, Z:  - 13.6 * Z**2 * c.e * mu * (1/n**2 - 1/m**2)"
   ]
  },
  {
   "cell_type": "code",
   "execution_count": 58,
   "metadata": {},
   "outputs": [
    {
     "name": "stdout",
     "output_type": "stream",
     "text": [
      "[1. 1.]\n"
     ]
    },
    {
     "name": "stderr",
     "output_type": "stream",
     "text": [
      "C:\\Users\\Lucac\\AppData\\Local\\Temp\\ipykernel_4148\\4128584954.py:1: OptimizeWarning: Covariance of the parameters could not be estimated\n",
      "  fit, cov = curve_fit(E, np.arange(2,6), Lambda[0], [1,1],)\n"
     ]
    }
   ],
   "source": [
    "fit, cov = curve_fit(E, np.arange(2,6), Lambda[0], [1,1],)\n",
    "print(fit)"
   ]
  },
  {
   "cell_type": "code",
   "execution_count": 47,
   "metadata": {},
   "outputs": [
    {
     "data": {
      "text/plain": [
       "13.056"
      ]
     },
     "execution_count": 47,
     "metadata": {},
     "output_type": "execute_result"
    }
   ],
   "source": [
    "E(5, 1, 1) / c.elementary_charge"
   ]
  },
  {
   "cell_type": "code",
   "execution_count": 219,
   "metadata": {},
   "outputs": [
    {
     "name": "stdout",
     "output_type": "stream",
     "text": [
      "[[40.7842758  48.43132751 51.02230388 52.98470019]\n",
      " [ 5.10223039  6.04800968  6.37778799  6.5323603 ]]\n",
      "[10.20138801 12.09053393 12.75173501 13.05777665]\n",
      "\n",
      "[-121.46340286 -102.45349616  -97.17072229  -94.84953348]\n",
      "  message: Optimization terminated successfully.\n",
      "  success: True\n",
      "   status: 0\n",
      "      fun: 145.64330860662034\n",
      "        x: [ 9.105e+01]\n",
      "      nit: 17\n",
      "      jac: [-5.722e-06]\n",
      " hess_inv: [[ 1.226e+06]]\n",
      "     nfev: 36\n",
      "     njev: 18\n"
     ]
    }
   ],
   "source": [
    "print(E_exp/c.e)\n",
    "# Z, mi = 2,1\n",
    "\n",
    "Z, mi = 1,1\n",
    "eV = E(np.arange(mi+1,mi+5), mi, 1/(1 - c.m_e / (2*c.m_p + 2*c.m_n)), Z) / c.e\n",
    "l = c.c / (eV * c.e / c.h) * 1e9\n",
    "print(eV)\n",
    "print()\n",
    "\n",
    "def f(x):\n",
    "    mi = 1\n",
    "    Z = 1\n",
    "    eV = E(np.arange(mi+1,mi+5), mi, 1/(1 - c.m_e /x / (2*c.m_p + 2*c.m_n)), Z) / c.e\n",
    "    return np.sum((eV-E_exp[1] / c.e)**2)\n",
    "\n",
    "print(l-Lambda[1]*1e9)\n",
    "# 8-8\n",
    "# \n",
    "print(scipy.optimize.minimize(f, 1))"
   ]
  }
 ],
 "metadata": {
  "kernelspec": {
   "display_name": "main",
   "language": "python",
   "name": "python3"
  },
  "language_info": {
   "codemirror_mode": {
    "name": "ipython",
    "version": 3
   },
   "file_extension": ".py",
   "mimetype": "text/x-python",
   "name": "python",
   "nbconvert_exporter": "python",
   "pygments_lexer": "ipython3",
   "version": "3.12.2"
  }
 },
 "nbformat": 4,
 "nbformat_minor": 2
}
