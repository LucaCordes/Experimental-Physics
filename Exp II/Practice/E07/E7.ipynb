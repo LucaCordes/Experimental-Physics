{
 "cells": [
  {
   "attachments": {},
   "cell_type": "markdown",
   "metadata": {},
   "source": [
    "# Jupyter-Notebook zur Experimentalphysik II, SS 2023\n",
    "\n",
    "von Dr. Markus Merschmeyer und Sebastian Wiedenbeck, III. Physikalisches Institut A, RWTH Aachen University\n",
    "\n",
    "## Übungsaufgabe: Feldstärke einer Leiterplatte (numerisch)\n"
   ]
  },
  {
   "cell_type": "code",
   "execution_count": 1,
   "metadata": {
    "tags": []
   },
   "outputs": [],
   "source": [
    "import numpy as np\n",
    "import matplotlib.pyplot as plt\n",
    "import scipy.constants as scc\n",
    "\n",
    "eps0  = scc.epsilon_0\n",
    "e     = scc.e\n",
    "sigma = 1"
   ]
  },
  {
   "cell_type": "code",
   "execution_count": 2,
   "metadata": {},
   "outputs": [],
   "source": [
    "def getFieldStrength(d=1.0, N=11, l=1.0):      \n",
    "    E = np.array([eps0 * e / d**2])\n",
    "    for i in range(0, int(np.ceil(N/2))): \n",
    "        for j in range(0, int(np.floor(N/2))):\n",
    "            r = np.array([i*l, j*l, d])\n",
    "            E += (4 * eps0 * e / r.dot(r)**(3/2) * r)[2]\n",
    "    return E                            "
   ]
  },
  {
   "cell_type": "code",
   "execution_count": 3,
   "metadata": {},
   "outputs": [
    {
     "name": "stdout",
     "output_type": "stream",
     "text": [
      "E_z(d= 0.1 ,N= 21 ,l= 0.5 ) =  [7.23739541e-28] V/m\n",
      "E_z(d= 0.1 ,N= 201 ,l= 0.05 ) =  [4.91959098e-27] V/m\n",
      "E_z(d= 0.1 ,N= 2001 ,l= 0.05 ) =  [4.97758522e-27] V/m\n",
      "E_z(d= 1.0 ,N= 21 ,l= 0.5 ) =  [4.32869808e-29] V/m\n",
      "E_z(d= 1.0 ,N= 201 ,l= 0.05 ) =  [3.04787637e-27] V/m\n",
      "E_z(d= 1.0 ,N= 2001 ,l= 0.05 ) =  [3.61743842e-27] V/m\n",
      "E_z(d= 10.0 ,N= 21 ,l= 0.5 ) =  [5.09481199e-30] V/m\n",
      "E_z(d= 10.0 ,N= 201 ,l= 0.05 ) =  [4.62125736e-28] V/m\n",
      "E_z(d= 10.0 ,N= 2001 ,l= 0.05 ) =  [2.94492815e-27] V/m\n"
     ]
    }
   ],
   "source": [
    "for v_d in [0.1, 1.0, 10.0] :\n",
    "    for v_N, v_l in [(21,0.5), (201,0.05), (2001,0.05)]:\n",
    "        print (\"E_z(d=\",v_d,\",N=\",v_N,\",l=\",v_l,\") = \", getFieldStrength(v_d,v_N,v_l),\"V/m\")"
   ]
  }
 ],
 "metadata": {
  "kernelspec": {
   "display_name": "Python 3 (ipykernel)",
   "language": "python",
   "name": "python3"
  },
  "language_info": {
   "codemirror_mode": {
    "name": "ipython",
    "version": 3
   },
   "file_extension": ".py",
   "mimetype": "text/x-python",
   "name": "python",
   "nbconvert_exporter": "python",
   "pygments_lexer": "ipython3",
   "version": "3.9.16"
  }
 },
 "nbformat": 4,
 "nbformat_minor": 4
}
