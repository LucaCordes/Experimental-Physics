{
 "cells": [
  {
   "cell_type": "markdown",
   "metadata": {},
   "source": [
    "Ex Vb, sheet 5\n",
    "\n",
    "Luca Cordes 444900"
   ]
  },
  {
   "cell_type": "code",
   "execution_count": 1,
   "metadata": {},
   "outputs": [],
   "source": [
    "from sympy import *\n",
    "import numpy as np \n",
    "import scipy.constants as c\n",
    "from IPython.display import display as print\n",
    "init_printing(use_latex=\"mathjax\")\n"
   ]
  },
  {
   "cell_type": "markdown",
   "metadata": {},
   "source": [
    "# Nr. 1 Electron-muon-scattering"
   ]
  },
  {
   "cell_type": "markdown",
   "metadata": {},
   "source": [
    "The number of particles per second is $W = L \\sigma$, where $\\sigma$ is the differential cross section integrated over the central region $\\sigma = \\int_{45^\\circ}^{135^\\circ} \\mathrm d\\theta\\,2\\pi\\sin(\\theta) \\frac{\\mathrm d \\sigma}{\\mathrm d \\Omega}$."
   ]
  },
  {
   "cell_type": "code",
   "execution_count": 2,
   "metadata": {},
   "outputs": [
    {
     "data": {
      "text/latex": [
       "$\\displaystyle \\int\\limits_{\\frac{\\pi}{4}}^{\\frac{3 \\pi}{4}} \\frac{\\pi \\alpha^{2} \\left(\\cos^{2}{\\left(\\theta \\right)} + 1\\right) \\sin{\\left(\\theta \\right)}}{2 s}\\, d\\theta$"
      ],
      "text/plain": [
       "3⋅π                             \n",
       "───                             \n",
       " 4                              \n",
       " ⌠                              \n",
       " ⎮     2 ⎛   2       ⎞          \n",
       " ⎮  π⋅α ⋅⎝cos (θ) + 1⎠⋅sin(θ)   \n",
       " ⎮  ───────────────────────── dθ\n",
       " ⎮             2⋅s              \n",
       " ⌡                              \n",
       " π                              \n",
       " ─                              \n",
       " 4                              "
      ]
     },
     "execution_count": 2,
     "metadata": {},
     "output_type": "execute_result"
    }
   ],
   "source": [
    "s,L,theta,alpha = symbols(\"s L theta alpha\")\n",
    "deg = 2*pi/360\n",
    "gev_to_cm2 = (c.c * c.hbar / (c.e * 1e9))**2 * (1e2)**2 # GeV^-2 to cm^2\n",
    "\n",
    "subs = {s: 34**2, # GeV^2\n",
    "        L: 5e30, # cm^-2 s^-1\n",
    "        alpha: c.alpha}\n",
    "diff_cross_section = alpha**2/(4*s) * (1 + cos(theta)**2)\n",
    "\n",
    "cross_section = Integral((2*pi*sin(theta)*diff_cross_section),(theta, 45*deg, 135*deg))\n",
    "cross_section"
   ]
  },
  {
   "cell_type": "code",
   "execution_count": 3,
   "metadata": {},
   "outputs": [
    {
     "data": {
      "text/latex": [
       "$\\displaystyle \\frac{7 \\sqrt{2} \\pi L \\alpha^{2}}{12 s}$"
      ],
      "text/plain": [
       "          2\n",
       "7⋅√2⋅π⋅L⋅α \n",
       "───────────\n",
       "    12⋅s   "
      ]
     },
     "execution_count": 3,
     "metadata": {},
     "output_type": "execute_result"
    }
   ],
   "source": [
    "W = L * cross_section.doit()\n",
    "W "
   ]
  },
  {
   "cell_type": "code",
   "execution_count": 4,
   "metadata": {},
   "outputs": [
    {
     "data": {
      "text/latex": [
       "$\\displaystyle 0.000232432810936274$"
      ],
      "text/plain": [
       "0.00023243281093627375"
      ]
     },
     "execution_count": 4,
     "metadata": {},
     "output_type": "execute_result"
    }
   ],
   "source": [
    "float(W.subs(subs) * gev_to_cm2)"
   ]
  },
  {
   "cell_type": "markdown",
   "metadata": {},
   "source": [
    "There are $0.000232$ electron-muon-scatterings per second."
   ]
  },
  {
   "cell_type": "markdown",
   "metadata": {},
   "source": [
    "# Nr. 2 Electric dipole moment of the neutron\n",
    "## Parity\n",
    "The electric dipole moment, like most vectors, changes signs under a parity transformation, \n",
    "$$\n",
    "    PD = P\\int \\mathrm dr \\rho = \\int (-\\mathrm dr) \\rho = -D \n",
    "$$\n",
    "where as\n",
    "the spin transforms like angular momentum, i.e. it does not change its sign:\n",
    "$$\n",
    "PL = P\\left(mr\\times \\frac{\\mathrm d r}{\\mathrm dt}\\right) = m(-r)\\times \\left(\\frac{-\\mathrm d r}{\\mathrm dt}\\right)=L\n",
    "$$\n",
    "The neutron therefore violates the P symmetry.\n",
    "\n",
    "## Time \n",
    "Once again the spin transforms like angular momentum \n",
    "$$\n",
    "TL = T\\left(mr\\times v\\right) = m r\\times\\left(\\frac{\\mathrm d r}{-\\mathrm dt}\\right) = -L\n",
    "$$\n",
    "changing sign under time reversial, on the other hand the dipole moment \n",
    "$$\n",
    "    TD = T\\int \\mathrm dr \\rho = \\int \\mathrm dr \\rho = D\n",
    "$$\n",
    "stays the same. \n",
    "It follows that the T symmetry is violated as well."
   ]
  },
  {
   "cell_type": "markdown",
   "metadata": {},
   "source": [
    "# Nr. 3 CKM matrix\n",
    "## (a)\n",
    "Let $A_i$ be the three matrices that $V_{CKM}$ is composed of (see problem sheet). Note that $A_1$ and $A_3$ are rotation matrices and therefore unitary. $A_2$ resembles a rotation matrix, except for the fact that it has a complex phase in the \n",
    "entries with the sines. It can be shown to be unitary as well: \n",
    "$$\n",
    "    \\begin{align*}\n",
    "    I &\\overset !=\\begin{pmatrix}\n",
    "        c& s e^{-i\\delta}\\\\\n",
    "        -s e^{i\\delta}& c\\\\\n",
    "    \\end{pmatrix}^\\dagger\\begin{pmatrix}\n",
    "        c& s e^{-i\\delta}\\\\\n",
    "        -s e^{i\\delta}& c\\\\\n",
    "    \\end{pmatrix}\\\\\n",
    "    &=\\begin{pmatrix}\n",
    "        c& -s e^{-i\\delta}\\\\\n",
    "        s e^{i\\delta}& c\\\\\n",
    "    \\end{pmatrix}\\begin{pmatrix}\n",
    "        c& s e^{-i\\delta}\\\\\n",
    "        -s e^{i\\delta}& c\\\\\n",
    "    \\end{pmatrix}\\\\\n",
    "    &= \\begin{pmatrix}\n",
    "        c^2 +s^2 & c s e^{-i\\delta }- c s e^{-i\\delta}\\\\\n",
    "        c s e^{i\\delta }- c s e^{i\\delta} & c^2 +s^2\\\\\n",
    "    \\end{pmatrix}\\\\\n",
    "    &= I \n",
    "\\end{align*}\n",
    "$$\n",
    "Using the fact that $A_i$ are unitary, it trivially follows that $V_{CKM}$ is unitary as well:\n",
    "$$\n",
    "    \\begin{align*}\n",
    "    I &\\overset!= V_{CKM}^\\dagger V_{CKM}\\\\\n",
    "    &= (A_1A_2A_3)^\\dagger A_1 A_2 A_3\\\\\n",
    "    &= A_3^\\dagger A_2^\\dagger A_1^\\dagger A_1A_2A_3\\\\\n",
    "    &= A_3^\\dagger A_2^\\dagger A_2A_3\\\\\n",
    "    &= A_3^\\dagger A_3\\\\\n",
    "    &= I\\\\\n",
    "    \\end{align*}\n",
    "$$\n",
    "\n",
    "## (b)"
   ]
  },
  {
   "cell_type": "code",
   "execution_count": 5,
   "metadata": {},
   "outputs": [
    {
     "data": {
      "text/latex": [
       "$\\displaystyle \\left[\\begin{matrix}1 & 0 & 0\\\\0 & c_{23} & s_{23}\\\\0 & - s_{23} & c_{23}\\end{matrix}\\right]$"
      ],
      "text/plain": [
       "⎡1   0     0 ⎤\n",
       "⎢            ⎥\n",
       "⎢0  c₂₃   s₂₃⎥\n",
       "⎢            ⎥\n",
       "⎣0  -s₂₃  c₂₃⎦"
      ]
     },
     "metadata": {},
     "output_type": "display_data"
    },
    {
     "data": {
      "text/latex": [
       "$\\displaystyle \\left[\\begin{matrix}c_{13} & 0 & s_{13} e^{- i \\delta}\\\\0 & 1 & 0\\\\- s_{13} e^{i \\delta} & 0 & c_{13}\\end{matrix}\\right]$"
      ],
      "text/plain": [
       "⎡                   -ⅈ⋅δ⎤\n",
       "⎢   c₁₃     0  s₁₃⋅ℯ    ⎥\n",
       "⎢                       ⎥\n",
       "⎢    0      1      0    ⎥\n",
       "⎢                       ⎥\n",
       "⎢      ⅈ⋅δ              ⎥\n",
       "⎣-s₁₃⋅ℯ     0     c₁₃   ⎦"
      ]
     },
     "metadata": {},
     "output_type": "display_data"
    },
    {
     "data": {
      "text/latex": [
       "$\\displaystyle \\left[\\begin{matrix}c_{12} & s_{12} & 0\\\\- s_{12} & c_{12} & 0\\\\0 & 0 & 1\\end{matrix}\\right]$"
      ],
      "text/plain": [
       "⎡c₁₂   s₁₂  0⎤\n",
       "⎢            ⎥\n",
       "⎢-s₁₂  c₁₂  0⎥\n",
       "⎢            ⎥\n",
       "⎣ 0     0   1⎦"
      ]
     },
     "metadata": {},
     "output_type": "display_data"
    }
   ],
   "source": [
    "c_23, s_23, c_13, s_13, c_12, s_12, delta = symbols(\"c_23 s_23 c_13 s_13 c_12 s_12 delta\",real=True)\n",
    "M1 = Matrix([[1,0,0],\n",
    "             [0,c_23,s_23],\n",
    "             [0,-s_23,c_23]])\n",
    "M2 = Matrix([[c_13,0,s_13 * exp(-I*delta)],\n",
    "             [0,1,0],\n",
    "             [-s_13 * exp(I*delta),0,c_13]])\n",
    "M3 = Matrix([[c_12,s_12,0],\n",
    "             [-s_12,c_12,0],\n",
    "             [0,0,1]])\n",
    "# theta_23, theta_13, theta_12, delta = symbols(\"theta_23 theta_13 theta12 delta\")\n",
    "# M1 = Matrix([[1,0,0],\n",
    "#              [0,cos(theta_23),sin(theta_23)],\n",
    "#              [0,-sin(theta_23),cos(theta_23)]])\n",
    "# M2 = Matrix([[cos(theta_13),0,sin(theta_13) * exp(-I*delta)],\n",
    "#              [0,1,0],\n",
    "#              [-sin(theta_13) * exp(I*delta),0,cos(theta_13)]])\n",
    "# M3 = Matrix([[cos(theta_12),sin(theta_12),0],\n",
    "#              [-sin(theta_12),cos(theta_12),0],\n",
    "#              [0,0,1]])\n",
    "print(M1, M2, M3)"
   ]
  },
  {
   "cell_type": "code",
   "execution_count": 6,
   "metadata": {},
   "outputs": [
    {
     "data": {
      "text/latex": [
       "$\\displaystyle \\left[\\begin{matrix}c_{12} c_{13} & c_{13} s_{12} & s_{13} e^{- i \\delta}\\\\- c_{12} s_{13} s_{23} e^{i \\delta} - c_{23} s_{12} & c_{12} c_{23} - s_{12} s_{13} s_{23} e^{i \\delta} & c_{13} s_{23}\\\\- c_{12} c_{23} s_{13} e^{i \\delta} + s_{12} s_{23} & - c_{12} s_{23} - c_{23} s_{12} s_{13} e^{i \\delta} & c_{13} c_{23}\\end{matrix}\\right]$"
      ],
      "text/plain": [
       "⎡                                                                -ⅈ⋅δ⎤\n",
       "⎢          c₁₂⋅c₁₃                       c₁₃⋅s₁₂            s₁₃⋅ℯ    ⎥\n",
       "⎢                                                                    ⎥\n",
       "⎢               ⅈ⋅δ                                   ⅈ⋅δ            ⎥\n",
       "⎢- c₁₂⋅s₁₃⋅s₂₃⋅ℯ    - c₂₃⋅s₁₂  c₁₂⋅c₂₃ - s₁₂⋅s₁₃⋅s₂₃⋅ℯ       c₁₃⋅s₂₃ ⎥\n",
       "⎢                                                                    ⎥\n",
       "⎢               ⅈ⋅δ                                    ⅈ⋅δ           ⎥\n",
       "⎣- c₁₂⋅c₂₃⋅s₁₃⋅ℯ    + s₁₂⋅s₂₃  -c₁₂⋅s₂₃ - c₂₃⋅s₁₂⋅s₁₃⋅ℯ      c₁₃⋅c₂₃ ⎦"
      ]
     },
     "execution_count": 6,
     "metadata": {},
     "output_type": "execute_result"
    }
   ],
   "source": [
    "V = M1*M2*M3\n",
    "V"
   ]
  },
  {
   "cell_type": "markdown",
   "metadata": {},
   "source": [
    "## (c)"
   ]
  },
  {
   "cell_type": "code",
   "execution_count": 7,
   "metadata": {},
   "outputs": [
    {
     "data": {
      "text/latex": [
       "$\\displaystyle \\left[\\begin{matrix}\\sqrt{1 - \\lambda^{2}} \\sqrt{- A^{2} \\lambda^{6} \\left(- i \\eta + \\rho\\right)^{2} e^{2 i \\delta} + 1} & \\lambda \\sqrt{- A^{2} \\lambda^{6} \\left(- i \\eta + \\rho\\right)^{2} e^{2 i \\delta} + 1} & A \\lambda^{3} \\left(- i \\eta + \\rho\\right)\\\\- A^{2} \\lambda^{5} \\sqrt{1 - \\lambda^{2}} \\left(i \\eta + \\rho\\right) - \\lambda \\sqrt{- A^{2} \\lambda^{4} + 1} & - A^{2} \\lambda^{6} \\left(i \\eta + \\rho\\right) + \\sqrt{1 - \\lambda^{2}} \\sqrt{- A^{2} \\lambda^{4} + 1} & A \\lambda^{2} \\sqrt{- A^{2} \\lambda^{6} \\left(- i \\eta + \\rho\\right)^{2} e^{2 i \\delta} + 1}\\\\- A \\lambda^{3} \\sqrt{1 - \\lambda^{2}} \\left(i \\eta + \\rho\\right) \\sqrt{- A^{2} \\lambda^{4} + 1} + A \\lambda^{3} & - A \\lambda^{4} \\left(i \\eta + \\rho\\right) \\sqrt{- A^{2} \\lambda^{4} + 1} - A \\lambda^{2} \\sqrt{1 - \\lambda^{2}} & \\sqrt{- A^{2} \\lambda^{4} + 1} \\sqrt{- A^{2} \\lambda^{6} \\left(- i \\eta + \\rho\\right)^{2} e^{2 i \\delta} + 1}\\end{matrix}\\right]$"
      ],
      "text/plain": [
       "⎡     ________    ________________________________                 ___________\n",
       "⎢    ╱      2    ╱    2  6           2  2⋅ⅈ⋅δ                     ╱    2  6   \n",
       "⎢  ╲╱  1 - λ  ⋅╲╱  - A ⋅λ ⋅(-ⅈ⋅η + ρ) ⋅ℯ      + 1             λ⋅╲╱  - A ⋅λ ⋅(-\n",
       "⎢                                                                             \n",
       "⎢            ________                  _____________                          \n",
       "⎢    2  5   ╱      2                  ╱    2  4             2  6              \n",
       "⎢ - A ⋅λ ⋅╲╱  1 - λ  ⋅(ⅈ⋅η + ρ) - λ⋅╲╱  - A ⋅λ  + 1      - A ⋅λ ⋅(ⅈ⋅η + ρ) + ╲\n",
       "⎢                                                                             \n",
       "⎢          ________              _____________                             ___\n",
       "⎢     3   ╱      2              ╱    2  4           3       4             ╱   \n",
       "⎣- A⋅λ ⋅╲╱  1 - λ  ⋅(ⅈ⋅η + ρ)⋅╲╱  - A ⋅λ  + 1  + A⋅λ   - A⋅λ ⋅(ⅈ⋅η + ρ)⋅╲╱  - \n",
       "\n",
       "_____________________                                                         \n",
       "        2  2⋅ⅈ⋅δ                                    3                         \n",
       "ⅈ⋅η + ρ) ⋅ℯ      + 1                             A⋅λ ⋅(-ⅈ⋅η + ρ)              \n",
       "                                                                              \n",
       "  ________    _____________                  ________________________________ \n",
       " ╱      2    ╱    2  4                  2   ╱    2  6           2  2⋅ⅈ⋅δ      \n",
       "╱  1 - λ  ⋅╲╱  - A ⋅λ  + 1           A⋅λ ⋅╲╱  - A ⋅λ ⋅(-ⅈ⋅η + ρ) ⋅ℯ      + 1  \n",
       "                                                                              \n",
       "__________           ________     _____________    ___________________________\n",
       " 2  4           2   ╱      2     ╱    2  4        ╱    2  6           2  2⋅ⅈ⋅δ\n",
       "A ⋅λ  + 1  - A⋅λ ⋅╲╱  1 - λ    ╲╱  - A ⋅λ  + 1 ⋅╲╱  - A ⋅λ ⋅(-ⅈ⋅η + ρ) ⋅ℯ     \n",
       "\n",
       "     ⎤\n",
       "     ⎥\n",
       "     ⎥\n",
       "     ⎥\n",
       "     ⎥\n",
       "     ⎥\n",
       "     ⎥\n",
       "     ⎥\n",
       "_____⎥\n",
       "     ⎥\n",
       " + 1 ⎦"
      ]
     },
     "execution_count": 7,
     "metadata": {},
     "output_type": "execute_result"
    }
   ],
   "source": [
    "lamb, A, rho, eta = symbols(\"lambda A rho eta\", real=True)\n",
    "subs = {c_12: sqrt(1-s_12**2),\n",
    "        c_23: sqrt(1-s_23**2),\n",
    "        c_13: sqrt(1-s_13**2),\n",
    "        s_12: lamb,\n",
    "        s_23: A*lamb**2,\n",
    "        s_13: A*lamb**3*(rho-I*eta)*exp(I*delta)}\n",
    "M2_ = Matrix([[c_13,0,s_13 * exp(-I*delta)],\n",
    "             [0,1,0],\n",
    "             [-A*lamb**3*(rho + I*eta),0,c_13]])\n",
    "\n",
    "V_W = (M1.subs(subs)*M2_.subs(subs)*M3.subs(subs))\n",
    "V_W"
   ]
  },
  {
   "cell_type": "code",
   "execution_count": 8,
   "metadata": {},
   "outputs": [
    {
     "data": {
      "text/latex": [
       "$\\displaystyle \\left[\\begin{matrix}1 - \\frac{\\lambda^{2}}{2} & \\lambda & A \\lambda^{3} \\left(- i \\eta + \\rho\\right)\\\\- \\lambda & 1 - \\frac{\\lambda^{2}}{2} & A \\lambda^{2}\\\\A \\lambda^{3} \\left(- i \\eta - \\rho + 1\\right) & - A \\lambda^{2} & 1\\end{matrix}\\right]$"
      ],
      "text/plain": [
       "⎡           2                                ⎤\n",
       "⎢          λ                     3           ⎥\n",
       "⎢      1 - ──           λ     A⋅λ ⋅(-ⅈ⋅η + ρ)⎥\n",
       "⎢          2                                 ⎥\n",
       "⎢                                            ⎥\n",
       "⎢                          2                 ⎥\n",
       "⎢                         λ           2      ⎥\n",
       "⎢        -λ           1 - ──       A⋅λ       ⎥\n",
       "⎢                         2                  ⎥\n",
       "⎢                                            ⎥\n",
       "⎢   3                     2                  ⎥\n",
       "⎣A⋅λ ⋅(-ⅈ⋅η - ρ + 1)  -A⋅λ           1       ⎦"
      ]
     },
     "execution_count": 8,
     "metadata": {},
     "output_type": "execute_result"
    }
   ],
   "source": [
    "V_W_taylor = simplify(V_W.applyfunc(lambda x: series(x, lamb, 0, 4).removeO()))\n",
    "V_W_taylor"
   ]
  },
  {
   "cell_type": "markdown",
   "metadata": {},
   "source": [
    "## (d)\n",
    "1. identity:"
   ]
  },
  {
   "cell_type": "code",
   "execution_count": 9,
   "metadata": {},
   "outputs": [
    {
     "data": {
      "text/latex": [
       "$\\displaystyle \\frac{\\left|{s_{12}}\\right|}{\\sqrt{c_{12}^{2} + s_{12}^{2}}}$"
      ],
      "text/plain": [
       "     │s₁₂│      \n",
       "────────────────\n",
       "   _____________\n",
       "  ╱    2      2 \n",
       "╲╱  c₁₂  + s₁₂  "
      ]
     },
     "execution_count": 9,
     "metadata": {},
     "output_type": "execute_result"
    }
   ],
   "source": [
    "simplify(abs(V[0,1]) / sqrt(abs(V[0,0])**2 + abs(V[0,1])**2))"
   ]
  },
  {
   "cell_type": "markdown",
   "metadata": {},
   "source": [
    "In practice all the angles are small and positive, so $|s_{ij}|=s_{ij}$ and $|c_{ij}|=c_{ij}$ all hold. The denominator then cancels by the pythagorean theorem, leaving the desired identity.\n",
    "\n",
    "With the Wolfenstein parametrization:"
   ]
  },
  {
   "cell_type": "code",
   "execution_count": 15,
   "metadata": {},
   "outputs": [
    {
     "data": {
      "text/latex": [
       "$\\displaystyle \\frac{2 \\left|{\\lambda}\\right|}{\\sqrt{\\lambda^{4} + 4}}$"
      ],
      "text/plain": [
       "   2⋅│λ│   \n",
       "───────────\n",
       "   ________\n",
       "  ╱  4     \n",
       "╲╱  λ  + 4 "
      ]
     },
     "execution_count": 15,
     "metadata": {},
     "output_type": "execute_result"
    }
   ],
   "source": [
    "V_W = V_W_taylor\n",
    "simplify(abs(V_W[0,1]) / sqrt(abs(V_W[0,0])**2 + abs(V_W[0,1])**2))"
   ]
  },
  {
   "cell_type": "markdown",
   "metadata": {},
   "source": [
    "since $\\lambda$ is small and positive: \n",
    "$\\frac{2|\\lambda|}{\\sqrt{\\lambda^4 + 4}} \\approx \\lambda$"
   ]
  },
  {
   "cell_type": "markdown",
   "metadata": {},
   "source": [
    "\n",
    "2. identity:"
   ]
  },
  {
   "cell_type": "code",
   "execution_count": 11,
   "metadata": {},
   "outputs": [
    {
     "data": {
      "text/latex": [
       "$\\displaystyle \\lambda \\left|{\\frac{s_{23}}{s_{12}}}\\right|$"
      ],
      "text/plain": [
       "  │s₂₃│\n",
       "λ⋅│───│\n",
       "  │s₁₂│"
      ]
     },
     "execution_count": 11,
     "metadata": {},
     "output_type": "execute_result"
    }
   ],
   "source": [
    "simplify(lamb * abs(V[1,2] / V[0,1]))"
   ]
  },
  {
   "cell_type": "markdown",
   "metadata": {},
   "source": [
    "the $\\lambda$ and $1/|s_{12}|=1/s_{12}$ cancel, leaving the desired identity.\n",
    "\n",
    "With the Wolfenstein parameterization:"
   ]
  },
  {
   "cell_type": "code",
   "execution_count": 19,
   "metadata": {},
   "outputs": [
    {
     "data": {
      "text/latex": [
       "$\\displaystyle \\lambda \\left|{A \\lambda}\\right|$"
      ],
      "text/plain": [
       "λ⋅│A⋅λ│"
      ]
     },
     "execution_count": 19,
     "metadata": {},
     "output_type": "execute_result"
    }
   ],
   "source": [
    "simplify(lamb * abs(V_W[1,2] / V_W[0,1]))"
   ]
  },
  {
   "cell_type": "markdown",
   "metadata": {},
   "source": [
    "again, $\\lambda$ is small and positive so $\\lambda|A\\lambda|=A\\lambda^2$"
   ]
  },
  {
   "cell_type": "markdown",
   "metadata": {},
   "source": [
    "3. identity:"
   ]
  },
  {
   "cell_type": "code",
   "execution_count": 12,
   "metadata": {},
   "outputs": [
    {
     "data": {
      "text/latex": [
       "$\\displaystyle s_{13} e^{i \\delta}$"
      ],
      "text/plain": [
       "     ⅈ⋅δ\n",
       "s₁₃⋅ℯ   "
      ]
     },
     "execution_count": 12,
     "metadata": {},
     "output_type": "execute_result"
    }
   ],
   "source": [
    "simplify(V[0,2].conjugate())"
   ]
  },
  {
   "cell_type": "markdown",
   "metadata": {},
   "source": [
    "and with the Wolfenstein parameterization:"
   ]
  },
  {
   "cell_type": "code",
   "execution_count": 20,
   "metadata": {},
   "outputs": [
    {
     "data": {
      "text/latex": [
       "$\\displaystyle A \\lambda^{3} \\left(i \\eta + \\rho\\right)$"
      ],
      "text/plain": [
       "   3          \n",
       "A⋅λ ⋅(ⅈ⋅η + ρ)"
      ]
     },
     "execution_count": 20,
     "metadata": {},
     "output_type": "execute_result"
    }
   ],
   "source": [
    "simplify(V_W[0,2].conjugate())"
   ]
  },
  {
   "cell_type": "markdown",
   "metadata": {},
   "source": [
    "## (e)\n",
    "The tip of the triangle as defined in the lectures is located at \n",
    "$- \\frac{V_{ud}V_{ub}^*}{V_{cd}V_{cb}^*}$ in the complex plane:"
   ]
  },
  {
   "cell_type": "code",
   "execution_count": 34,
   "metadata": {},
   "outputs": [
    {
     "data": {
      "text/latex": [
       "$\\displaystyle \\left(1 - \\frac{\\lambda^{2}}{2}\\right) \\left(i \\eta + \\rho\\right)$"
      ],
      "text/plain": [
       "⎛     2⎞          \n",
       "⎜    λ ⎟          \n",
       "⎜1 - ──⎟⋅(ⅈ⋅η + ρ)\n",
       "⎝    2 ⎠          "
      ]
     },
     "execution_count": 34,
     "metadata": {},
     "output_type": "execute_result"
    }
   ],
   "source": [
    "-(V_W[0,0] * conjugate(V_W[0,2])) / (V_W[1,0] * conjugate(V_W[1,2]))"
   ]
  },
  {
   "cell_type": "markdown",
   "metadata": {},
   "source": [
    "using the definition of $\\bar \\rho = \\rho\\cdot(1-\\lambda^2/2 +\\dots)$ and \n",
    "equivalently for $\\eta$ this will be equal to \n",
    "\n",
    "$\\bar \\rho + i \\bar\\eta$\n",
    "\n"
   ]
  },
  {
   "cell_type": "markdown",
   "metadata": {},
   "source": [
    "The tip of the other triangle points to $1+\\frac{V_{td}V_{tb}^*}{V_{cd}V_{cb}^*}$ which yiels:"
   ]
  },
  {
   "cell_type": "code",
   "execution_count": 37,
   "metadata": {},
   "outputs": [
    {
     "data": {
      "text/latex": [
       "$\\displaystyle i \\eta + \\rho$"
      ],
      "text/plain": [
       "ⅈ⋅η + ρ"
      ]
     },
     "execution_count": 37,
     "metadata": {},
     "output_type": "execute_result"
    }
   ],
   "source": [
    "1+(V_W[2,0] * conjugate(V_W[2,2])) / (V_W[1,0] * conjugate(V_W[1,2]))"
   ]
  },
  {
   "cell_type": "markdown",
   "metadata": {},
   "source": [
    "Showcasing that both identities hold"
   ]
  },
  {
   "cell_type": "markdown",
   "metadata": {},
   "source": [
    "# Nr. 4 Decay of the $D^0$ meson\n",
    "## (a)\n",
    "![feynman diagrams](feynman.jpg)\n",
    "\n",
    "The decay $D^0 \\to K^-\\pi^+$ is significantly more likely, because the transition $c\\to W^+ + s$ does not involve a change in the quark family. The relevant amplitude of the CKM matrix is therefore on the diagonal making it the most probable transition. Further more the decay $W^+\\to \\bar d + u$ is also more likely then $W^+\\to \\bar s+ u$ since its transition amplitude also lies on the diagonal. \n",
    "\n",
    "Mathematically the ration of the decay widths is \n",
    "$$\n",
    "\\begin{align*}\n",
    "    \\frac{P(D^0\\to K^- + \\pi^+)}{P(D^0\\to K^+ + \\pi^-)}\n",
    "    &= \\frac{|V_{cs}|^2|V_{ud}|^2}{|V_{cd}|^2|V_{us}|^2}\\\\\n",
    "    &= \\left(\\frac{0.97349\\cdot 0.97435}{0.22486\\cdot 0.22500}\\right)^2\\\\\n",
    "    &= 351.482\n",
    "\\end{align*}\n",
    "$$"
   ]
  },
  {
   "cell_type": "markdown",
   "metadata": {},
   "source": [
    "\n",
    "\n",
    "## (b)\n",
    "The relative decay widths (source: pdg) are: \n",
    "\n",
    "$D^0 \\to K^-\\pi^+: \\ \\Gamma_1/\\Gamma = (3.947\\pm0.030)\\cdot10^{-2}$\n",
    "\n",
    "$D^0 \\to K^+\\pi^-: \\ \\Gamma_2/\\Gamma = (1.363\\pm0.025)\\cdot 10^{-4}$\n",
    "\n",
    "$\\frac{P(D^0\\to K^- + \\pi^+)}{P(D^0\\to K^+ + \\pi^-)} = \\frac{\\Gamma_1}{\\Gamma_2} =  289.581$ \n",
    "\n",
    "The rough estimate for the ration of the decay width, aligns nicely with the experimental data. "
   ]
  }
 ],
 "metadata": {
  "kernelspec": {
   "display_name": "main",
   "language": "python",
   "name": "python3"
  },
  "language_info": {
   "codemirror_mode": {
    "name": "ipython",
    "version": 3
   },
   "file_extension": ".py",
   "mimetype": "text/x-python",
   "name": "python",
   "nbconvert_exporter": "python",
   "pygments_lexer": "ipython3",
   "version": "3.12.4"
  }
 },
 "nbformat": 4,
 "nbformat_minor": 2
}
