{
 "cells": [
  {
   "cell_type": "code",
   "execution_count": 2,
   "metadata": {},
   "outputs": [],
   "source": [
    "from sympy import *\n",
    "init_printing(use_latex=\"mathjax\")\n",
    "from IPython.display import display as print\n",
    "import numpy as np\n",
    "import scipy.constants as c"
   ]
  },
  {
   "cell_type": "code",
   "execution_count": 6,
   "metadata": {},
   "outputs": [
    {
     "data": {
      "text/plain": [
       "'R_n = 9829.363359812583'"
      ]
     },
     "metadata": {},
     "output_type": "display_data"
    },
    {
     "data": {
      "text/latex": [
       "$\\displaystyle \\frac{4}{3}$"
      ],
      "text/plain": [
       "4/3"
      ]
     },
     "metadata": {},
     "output_type": "display_data"
    },
    {
     "data": {
      "text/plain": [
       "'omega_n = 13504.237312402209'"
      ]
     },
     "metadata": {},
     "output_type": "display_data"
    },
    {
     "data": {
      "text/latex": [
       "$\\displaystyle 0.766521277493318$"
      ],
      "text/plain": [
       "0.7665212774933176"
      ]
     },
     "metadata": {},
     "output_type": "display_data"
    },
    {
     "data": {
      "text/latex": [
       "$\\displaystyle 2149.26612095482$"
      ],
      "text/plain": [
       "2149.2661209548232"
      ]
     },
     "execution_count": 6,
     "metadata": {},
     "output_type": "execute_result"
    }
   ],
   "source": [
    "# Nr.1 (a)\n",
    "M_s = 1.989e30\n",
    "R_s = 6.96e8\n",
    "omega_s = 2*np.pi / (27*24*60**2)\n",
    "\n",
    "rho_n = 5e17\n",
    "R_n = (3*M_s / (4*np.pi*rho_n))**(1/3)\n",
    "print(f\"{R_n = }\")\n",
    "\n",
    "# (b)\n",
    "r, theta = symbols(\"r theta\")\n",
    "print(integrate(sin(theta)**3, (theta,0,pi)))\n",
    "\n",
    "omega_n = R_s**2 / R_n**2 * omega_s\n",
    "print(f\"{omega_n = }\")\n",
    "\n",
    "# (c)\n",
    "print(c.G * M_s / R_n**3 / omega_n**2)\n",
    "\n",
    "omega_n/(2*np.pi)"
   ]
  },
  {
   "cell_type": "code",
   "execution_count": 14,
   "metadata": {},
   "outputs": [
    {
     "data": {
      "text/latex": [
       "$\\displaystyle \\frac{1}{2}$"
      ],
      "text/plain": [
       "1/2"
      ]
     },
     "metadata": {},
     "output_type": "display_data"
    },
    {
     "data": {
      "text/plain": [
       "'P_average = P/4 = 342.0'"
      ]
     },
     "metadata": {},
     "output_type": "display_data"
    },
    {
     "data": {
      "text/plain": [
       "'m_dot = 4.14E+09'"
      ]
     },
     "metadata": {},
     "output_type": "display_data"
    },
    {
     "data": {
      "text/plain": [
       "'P_nu = 6.39E+14 1/m^2/s= 6.39E+10 1/cm^2/s'"
      ]
     },
     "metadata": {},
     "output_type": "display_data"
    }
   ],
   "source": [
    "# Nr.2 (a)\n",
    "print(integrate(sin(theta)*cos(theta),(theta,0,pi/2)))\n",
    "\n",
    "P = 1368\n",
    "print(f\"P_average = {P/4 = }\")\n",
    "\n",
    "# (b)\n",
    "R_SE = 147.18e9\n",
    "m_dot = 4*np.pi * R_SE**2 * P / c.c**2\n",
    "print(f\"{m_dot = :.2E}\")\n",
    "\n",
    "# (c)\n",
    "E_per_nu = 26.73e6 * c.e # J\n",
    "P_nu = 2*P/E_per_nu\n",
    "print(f\"{P_nu = :.2E} 1/m^2/s= {P_nu*1e-4:.2E} 1/cm^2/s\")\n"
   ]
  },
  {
   "cell_type": "code",
   "execution_count": null,
   "metadata": {},
   "outputs": [
    {
     "data": {
      "text/plain": [
       "'S_s = -85.42484458203603'"
      ]
     },
     "metadata": {},
     "output_type": "display_data"
    },
    {
     "data": {
      "text/plain": [
       "'S_v = 29.20047566772233'"
      ]
     },
     "metadata": {},
     "output_type": "display_data"
    }
   ],
   "source": [
    "# Nr.3 (a)\n",
    "S_0 = 2.518e-8\n",
    "m = lambda S: -2.5 * np.log10(S/S_0)\n",
    "\n",
    "S_s = m(4*np.pi*R_SE**2 * P)\n",
    "print(f\"{S_s = }\")\n",
    "\n",
    "# (b)\n",
    "L = 3.828e26\n",
    "Mpd = 3.0857e16 * 1e6\n",
    "d_a = 0.78 * Mpd\n",
    "L_vega = 47.2 * L\n",
    "\n",
    "S_v = m(L / (4*np.pi * d_a**2))\n",
    "print(f\"{S_v = }\")"
   ]
  },
  {
   "cell_type": "code",
   "execution_count": null,
   "metadata": {},
   "outputs": [
    {
     "data": {
      "text/plain": [
       "'1.007E+21'"
      ]
     },
     "metadata": {},
     "output_type": "display_data"
    }
   ],
   "source": [
    "lambda_max = 2898e-6 * 2.7\n",
    "E_gamma = c.h*c.c / lambda_max / c.e # eV\n",
    "m_p = 938e6 # eV\n",
    "m_Delta = 1232e6 # eV\n",
    "\n",
    "E_p = E_gamma * (m_p**2 / (m_Delta**2 - m_p**2) + (m_Delta**2 - m_p**2)/(4*E_gamma**2))\n",
    "print(f\"{E_p:.3E}\")"
   ]
  }
 ],
 "metadata": {
  "kernelspec": {
   "display_name": "main",
   "language": "python",
   "name": "python3"
  },
  "language_info": {
   "codemirror_mode": {
    "name": "ipython",
    "version": 3
   },
   "file_extension": ".py",
   "mimetype": "text/x-python",
   "name": "python",
   "nbconvert_exporter": "python",
   "pygments_lexer": "ipython3",
   "version": "3.12.4"
  }
 },
 "nbformat": 4,
 "nbformat_minor": 2
}
