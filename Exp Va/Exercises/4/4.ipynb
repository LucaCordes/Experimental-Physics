{
 "cells": [
  {
   "cell_type": "code",
   "execution_count": 25,
   "metadata": {},
   "outputs": [],
   "source": [
    "from sympy import *\n",
    "from scipy.constants import e, epsilon_0 \n",
    "alpha, r0, kappa, z =  1.7476, 2.820e-10, 4.17e-11, 6\n",
    "N, r, B, rho = symbols(\"N r B rho\",positive=True)"
   ]
  },
  {
   "cell_type": "code",
   "execution_count": 26,
   "metadata": {},
   "outputs": [
    {
     "name": "stdout",
     "output_type": "stream",
     "text": [
      "-1182033096.92671*B*exp(-2.82e-10/rho)/rho**2 + 22254362582.5033/pi + 23980815347.7218\n"
     ]
    }
   ],
   "source": [
    "U_C = - N * e**2 / (4*pi * epsilon_0 * r) * alpha \n",
    "U_B = N * z * B * exp(- r/ rho)\n",
    "U = U_C + U_B \n",
    "\n",
    "eq1 = e**2 * rho * alpha / (4*pi * epsilon_0 * z * B * rho**2) - r0**2 / rho**2 * exp(-r0 / rho)\n",
    "eq2 = 1/kappa - 1 / (18 * r0 * N) * (U.diff(r,r)).subs({r:r0})\n",
    "print(eq2)"
   ]
  },
  {
   "cell_type": "code",
   "execution_count": 28,
   "metadata": {},
   "outputs": [
    {
     "ename": "ValueError",
     "evalue": "Could not find root within given tolerance. (108373066066747172.081 > 2.16840434497100886801e-19)\nTry another starting point or tweak arguments.",
     "output_type": "error",
     "traceback": [
      "\u001b[1;31m---------------------------------------------------------------------------\u001b[0m",
      "\u001b[1;31mValueError\u001b[0m                                Traceback (most recent call last)",
      "Cell \u001b[1;32mIn[28], line 1\u001b[0m\n\u001b[1;32m----> 1\u001b[0m \u001b[43mnsolve\u001b[49m\u001b[43m(\u001b[49m\u001b[43m[\u001b[49m\u001b[43meq1\u001b[49m\u001b[43m,\u001b[49m\u001b[43meq2\u001b[49m\u001b[43m]\u001b[49m\u001b[43m,\u001b[49m\u001b[43m \u001b[49m\u001b[43m[\u001b[49m\u001b[43mB\u001b[49m\u001b[43m,\u001b[49m\u001b[43mrho\u001b[49m\u001b[43m]\u001b[49m\u001b[43m,\u001b[49m\u001b[43m \u001b[49m\u001b[43m[\u001b[49m\u001b[38;5;241;43m2.5e-17\u001b[39;49m\u001b[43m,\u001b[49m\u001b[43m \u001b[49m\u001b[38;5;241;43m3.1e-10\u001b[39;49m\u001b[43m]\u001b[49m\u001b[43m)\u001b[49m\n",
      "File \u001b[1;32mc:\\Users\\Lucac\\anaconda3\\envs\\main\\Lib\\site-packages\\sympy\\utilities\\decorator.py:87\u001b[0m, in \u001b[0;36mconserve_mpmath_dps.<locals>.func_wrapper\u001b[1;34m(*args, **kwargs)\u001b[0m\n\u001b[0;32m     85\u001b[0m dps \u001b[38;5;241m=\u001b[39m mpmath\u001b[38;5;241m.\u001b[39mmp\u001b[38;5;241m.\u001b[39mdps\n\u001b[0;32m     86\u001b[0m \u001b[38;5;28;01mtry\u001b[39;00m:\n\u001b[1;32m---> 87\u001b[0m     \u001b[38;5;28;01mreturn\u001b[39;00m \u001b[43mfunc\u001b[49m\u001b[43m(\u001b[49m\u001b[38;5;241;43m*\u001b[39;49m\u001b[43margs\u001b[49m\u001b[43m,\u001b[49m\u001b[43m \u001b[49m\u001b[38;5;241;43m*\u001b[39;49m\u001b[38;5;241;43m*\u001b[39;49m\u001b[43mkwargs\u001b[49m\u001b[43m)\u001b[49m\n\u001b[0;32m     88\u001b[0m \u001b[38;5;28;01mfinally\u001b[39;00m:\n\u001b[0;32m     89\u001b[0m     mpmath\u001b[38;5;241m.\u001b[39mmp\u001b[38;5;241m.\u001b[39mdps \u001b[38;5;241m=\u001b[39m dps\n",
      "File \u001b[1;32mc:\\Users\\Lucac\\anaconda3\\envs\\main\\Lib\\site-packages\\sympy\\solvers\\solvers.py:3065\u001b[0m, in \u001b[0;36mnsolve\u001b[1;34m(dict, *args, **kwargs)\u001b[0m\n\u001b[0;32m   3063\u001b[0m J \u001b[38;5;241m=\u001b[39m lambdify(fargs, J, modules)\n\u001b[0;32m   3064\u001b[0m \u001b[38;5;66;03m# solve the system numerically\u001b[39;00m\n\u001b[1;32m-> 3065\u001b[0m x \u001b[38;5;241m=\u001b[39m \u001b[43mfindroot\u001b[49m\u001b[43m(\u001b[49m\u001b[43mf\u001b[49m\u001b[43m,\u001b[49m\u001b[43m \u001b[49m\u001b[43mx0\u001b[49m\u001b[43m,\u001b[49m\u001b[43m \u001b[49m\u001b[43mJ\u001b[49m\u001b[38;5;241;43m=\u001b[39;49m\u001b[43mJ\u001b[49m\u001b[43m,\u001b[49m\u001b[43m \u001b[49m\u001b[38;5;241;43m*\u001b[39;49m\u001b[38;5;241;43m*\u001b[39;49m\u001b[43mkwargs\u001b[49m\u001b[43m)\u001b[49m\n\u001b[0;32m   3066\u001b[0m \u001b[38;5;28;01mif\u001b[39;00m as_dict:\n\u001b[0;32m   3067\u001b[0m     \u001b[38;5;28;01mreturn\u001b[39;00m [\u001b[38;5;28mdict\u001b[39m(\u001b[38;5;28mzip\u001b[39m(fargs, [sympify(xi) \u001b[38;5;28;01mfor\u001b[39;00m xi \u001b[38;5;129;01min\u001b[39;00m x]))]\n",
      "File \u001b[1;32mc:\\Users\\Lucac\\anaconda3\\envs\\main\\Lib\\site-packages\\mpmath\\calculus\\optimization.py:985\u001b[0m, in \u001b[0;36mfindroot\u001b[1;34m(ctx, f, x0, solver, tol, verbose, verify, **kwargs)\u001b[0m\n\u001b[0;32m    983\u001b[0m         xl \u001b[38;5;241m=\u001b[39m x\n\u001b[0;32m    984\u001b[0m     \u001b[38;5;28;01mif\u001b[39;00m verify \u001b[38;5;129;01mand\u001b[39;00m norm(f(\u001b[38;5;241m*\u001b[39mxl))\u001b[38;5;241m*\u001b[39m\u001b[38;5;241m*\u001b[39m\u001b[38;5;241m2\u001b[39m \u001b[38;5;241m>\u001b[39m tol: \u001b[38;5;66;03m# TODO: better condition?\u001b[39;00m\n\u001b[1;32m--> 985\u001b[0m         \u001b[38;5;28;01mraise\u001b[39;00m \u001b[38;5;167;01mValueError\u001b[39;00m(\u001b[38;5;124m'\u001b[39m\u001b[38;5;124mCould not find root within given tolerance. \u001b[39m\u001b[38;5;124m'\u001b[39m\n\u001b[0;32m    986\u001b[0m                          \u001b[38;5;124m'\u001b[39m\u001b[38;5;124m(\u001b[39m\u001b[38;5;132;01m%s\u001b[39;00m\u001b[38;5;124m > \u001b[39m\u001b[38;5;132;01m%s\u001b[39;00m\u001b[38;5;124m)\u001b[39m\u001b[38;5;130;01m\\n\u001b[39;00m\u001b[38;5;124m'\u001b[39m\n\u001b[0;32m    987\u001b[0m                          \u001b[38;5;124m'\u001b[39m\u001b[38;5;124mTry another starting point or tweak arguments.\u001b[39m\u001b[38;5;124m'\u001b[39m\n\u001b[0;32m    988\u001b[0m                          \u001b[38;5;241m%\u001b[39m (norm(f(\u001b[38;5;241m*\u001b[39mxl))\u001b[38;5;241m*\u001b[39m\u001b[38;5;241m*\u001b[39m\u001b[38;5;241m2\u001b[39m, tol))\n\u001b[0;32m    989\u001b[0m     \u001b[38;5;28;01mreturn\u001b[39;00m x\n\u001b[0;32m    990\u001b[0m \u001b[38;5;28;01mfinally\u001b[39;00m:\n",
      "\u001b[1;31mValueError\u001b[0m: Could not find root within given tolerance. (108373066066747172.081 > 2.16840434497100886801e-19)\nTry another starting point or tweak arguments."
     ]
    }
   ],
   "source": [
    "nsolve([eq1,eq2], [B,rho], [2.5e-17, 3.1e-10])"
   ]
  },
  {
   "cell_type": "code",
   "execution_count": null,
   "metadata": {},
   "outputs": [
    {
     "name": "stdout",
     "output_type": "stream",
     "text": [
      "B = 1.75e-16\n",
      "rho = 3.22e-11\n"
     ]
    }
   ],
   "source": [
    "from scipy.optimize import fsolve\n",
    "import numpy as np\n",
    "from scipy.constants import e, epsilon_0\n",
    "alpha, r0, kappa, z =  1.7476, 2.820e-10, 4.17e-11, 6\n",
    "\n",
    "def scaled_eq1(params):\n",
    "    B, rho = params\n",
    "    left = (B / rho) * np.exp(-r0 / rho)\n",
    "    right = (e**2 * alpha) / (4 * np.pi * epsilon_0 * z * r0**2)\n",
    "    return (left - right) / right\n",
    "\n",
    "def scaled_eq2(params):\n",
    "    B, rho = params\n",
    "    term1 = -2 * (e**2 * alpha) / (4 * np.pi * epsilon_0 * r0**3)\n",
    "    term2 = (z * B / rho**2) * np.exp(-r0 / rho)\n",
    "    d2U_dr2 = term1 + term2\n",
    "    kappa_term = 18 * r0 / kappa\n",
    "    return (d2U_dr2 - kappa_term) / kappa_term \n",
    "\n",
    "def scaled_equations(params):\n",
    "    return [scaled_eq1(params), scaled_eq2(params)]\n",
    "\n",
    "B, rho  = fsolve(scaled_equations, [1e-16, 3e-11])\n",
    "\n",
    "print(f\"{B = :.3} J\\n{rho = :.3} m\")\n",
    "\n",
    "# returns:\n",
    "# >>> scaled_B = 1.75e-16\n",
    "# >>> scaled_rho = 3.22e-11"
   ]
  },
  {
   "cell_type": "code",
   "execution_count": 12,
   "metadata": {},
   "outputs": [
    {
     "name": "stdout",
     "output_type": "stream",
     "text": [
      "B/e = 1.09e+03 eV\n",
      "rho*1e10 = 0.322 A\n"
     ]
    }
   ],
   "source": [
    "print(f\"{B/e = :.3} eV\\n{rho*1e10 = :.3} A\")"
   ]
  }
 ],
 "metadata": {
  "kernelspec": {
   "display_name": "main",
   "language": "python",
   "name": "python3"
  },
  "language_info": {
   "codemirror_mode": {
    "name": "ipython",
    "version": 3
   },
   "file_extension": ".py",
   "mimetype": "text/x-python",
   "name": "python",
   "nbconvert_exporter": "python",
   "pygments_lexer": "ipython3",
   "version": "3.12.4"
  }
 },
 "nbformat": 4,
 "nbformat_minor": 2
}
