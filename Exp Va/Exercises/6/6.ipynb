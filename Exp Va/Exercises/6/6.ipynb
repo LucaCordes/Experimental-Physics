{
 "cells": [
  {
   "cell_type": "code",
   "execution_count": 1,
   "metadata": {},
   "outputs": [],
   "source": [
    "from sympy import *\n",
    "init_printing(use_latex=\"mathjax\")\n",
    "import numpy as np\n",
    "import scipy.constants as c\n",
    "from IPython.display import display as print"
   ]
  },
  {
   "cell_type": "code",
   "execution_count": 2,
   "metadata": {},
   "outputs": [
    {
     "data": {
      "text/latex": [
       "$\\displaystyle 5.63890221000711 \\cdot 10^{-10}$"
      ],
      "text/plain": [
       "5.638902210007114e-10"
      ]
     },
     "execution_count": 2,
     "metadata": {},
     "output_type": "execute_result"
    }
   ],
   "source": [
    "# Nr.1 \n",
    "Na = 22.990e-3 # kg/mol\n",
    "Cl = 35.453e-3 # kg/mol\n",
    "rho = 2165 # kg/m^3\n",
    "z = 4\n",
    "\n",
    "g = (z * (Na + Cl) / (c.N_A * rho))**(1/3)\n",
    "\n",
    "float(g)"
   ]
  },
  {
   "cell_type": "code",
   "execution_count": 3,
   "metadata": {},
   "outputs": [
    {
     "data": {
      "text/latex": [
       "$\\displaystyle 0.635610158577613$"
      ],
      "text/plain": [
       "0.635610158577613"
      ]
     },
     "metadata": {},
     "output_type": "display_data"
    },
    {
     "data": {
      "text/latex": [
       "$\\displaystyle 0.563780149229782$"
      ],
      "text/plain": [
       "0.563780149229782"
      ]
     },
     "metadata": {},
     "output_type": "display_data"
    }
   ],
   "source": [
    "# Nr.5\n",
    "T_M = (933,9e-4) # (K,1)\n",
    "T_R = (300,2.1e-11) # (K,1)\n",
    "\n",
    "Delta = lambda T,c_V: c.Boltzmann*T * log(1/c_V - 1) / c.e # eV\n",
    "print(Delta(*T_R),Delta(*T_M))"
   ]
  },
  {
   "cell_type": "code",
   "execution_count": 4,
   "metadata": {},
   "outputs": [
    {
     "data": {
      "text/latex": [
       "$\\displaystyle 37.6016328119143$"
      ],
      "text/plain": [
       "37.6016328119143"
      ]
     },
     "metadata": {},
     "output_type": "display_data"
    },
    {
     "data": {
      "text/latex": [
       "$\\displaystyle 0.0204510378765603$"
      ],
      "text/plain": [
       "0.0204510378765603"
      ]
     },
     "metadata": {},
     "output_type": "display_data"
    },
    {
     "data": {
      "text/latex": [
       "$\\displaystyle 2.90899219577155$"
      ],
      "text/plain": [
       "2.90899219577155"
      ]
     },
     "metadata": {},
     "output_type": "display_data"
    },
    {
     "data": {
      "text/latex": [
       "$\\displaystyle 158.216293095368$"
      ],
      "text/plain": [
       "158.216293095368"
      ]
     },
     "metadata": {},
     "output_type": "display_data"
    }
   ],
   "source": [
    "# Nr.6\n",
    "# (a)\n",
    "E = lambda m,lamb: (sqrt(m**2 * c.c**4 + c.h**2 * c.c**2 / lamb**2) - m*c.c**2)\n",
    "E_e, E_n = E(c.m_e,0.2e-9), E(c.m_n,0.2e-9)\n",
    "print(E_e / c.e, E_n / c.e)\n",
    "\n",
    "# (b)\n",
    "T = lambda E: 2/3 * E/c.Boltzmann\n",
    "print(T(E_e)*1e-5, T(E_n)) "
   ]
  }
 ],
 "metadata": {
  "kernelspec": {
   "display_name": "main",
   "language": "python",
   "name": "python3"
  },
  "language_info": {
   "codemirror_mode": {
    "name": "ipython",
    "version": 3
   },
   "file_extension": ".py",
   "mimetype": "text/x-python",
   "name": "python",
   "nbconvert_exporter": "python",
   "pygments_lexer": "ipython3",
   "version": "3.12.4"
  }
 },
 "nbformat": 4,
 "nbformat_minor": 2
}
