{
 "cells": [
  {
   "cell_type": "code",
   "execution_count": 1,
   "metadata": {},
   "outputs": [],
   "source": [
    "from scipy.constants import hbar, N_A, c, m_e, e\n",
    "from scipy.constants import Boltzmann as k_B\n",
    "from numpy import exp, log, sqrt, pi"
   ]
  },
  {
   "cell_type": "code",
   "execution_count": 2,
   "metadata": {},
   "outputs": [
    {
     "name": "stdout",
     "output_type": "stream",
     "text": [
      "(a)\n",
      "tau_Ag = 3.805e-14\n",
      "tau_Li = 8.315e-15\n",
      "\n",
      "Lambda_Ag = 4.094e-09\n",
      "Lambda_Li = 8.947e-10\n",
      "\n",
      "(b)\n",
      "tau_N = 1.82e-10\n",
      "Lambda_N = 8.65e-08\n",
      "\n"
     ]
    }
   ],
   "source": [
    "# Nr.1\n",
    "T = 300\n",
    "Ag = [1.59e-8, 10.5e3, 107.8e-3] # \\rho, \\rho_M, M \n",
    "Li = [9.28e-8, 0.53e3, 6.94e-3]\n",
    "\n",
    "# (a)\n",
    "tau = lambda x: m_e * x[2] / (N_A * x[1] * e**2 * x[0])\n",
    "tau_Ag, tau_Li = tau(Ag), tau(Li)\n",
    "print(f\"(a)\\n{tau_Ag = :.4}\\n{tau_Li = :.4}\\n\")\n",
    "\n",
    "tug_v = sqrt(8 * k_B * T / (pi * m_e))\n",
    "Lambda_Ag, Lambda_Li = tug_v * tau_Ag, tug_v * tau_Li\n",
    "print(f\"{Lambda_Ag = :.4}\\n{Lambda_Li = :.4}\\n\")\n",
    "\n",
    "# (b)\n",
    "rho_M = 1.25\n",
    "M = 28e-3\n",
    "d = 0.37e-9\n",
    "m_N = M / N_A\n",
    "tau_N = M/(N_A*rho_M) * 1/(pi * d**2) * sqrt(pi*m_N / (8*k_B *T))\n",
    "Lambda_N = M/(N_A*rho_M) * 1/(pi * d**2)\n",
    "print(f\"(b)\\n{tau_N = :.3}\\n{Lambda_N = :.3}\\n\") "
   ]
  },
  {
   "cell_type": "code",
   "execution_count": null,
   "metadata": {},
   "outputs": [
    {
     "name": "stdout",
     "output_type": "stream",
     "text": [
      "5.854859072222222e+28\n",
      "1.21e+10\n",
      "Nr.2 (a)\n",
      "k_Ag = 1.2e+10\n",
      "v_Ag = 1.39e+06\n",
      "E_Ag = 8.81e-19\n",
      "T_Ag = 6.38e+04\n",
      "\n",
      "\n",
      "(b)\n",
      "k_He = 7.82e+09\n",
      "v_He = 9.05e+05\n",
      "E_He = 3.73e-19\n",
      "T_He = 2.7e+04\n",
      "\n",
      "╭──────────┬──────────┬───────────────┬──────────┬─────────╮\n",
      "│          │    $k_F$ │         $v_F$ │    $E_F$ │   $T_F$ │\n",
      "├──────────┼──────────┼───────────────┼──────────┼─────────┤\n",
      "│ Ag       │ 1.2e+10  │      1.39e+06 │ 8.81e-19 │   63800 │\n",
      "│ ${}^3$He │ 7.82e+09 │ 905000        │ 3.73e-19 │   27000 │\n",
      "╰──────────┴──────────┴───────────────┴──────────┴─────────╯\n"
     ]
    }
   ],
   "source": [
    "from home.tables import tabular\n",
    "import numpy as np\n",
    "# Nr.2 (a)\n",
    "rho_Ag = 10.5e3\n",
    "M_Ag = 108e-3\n",
    "m_Ag = M_Ag/N_A\n",
    "n_Ag = rho_Ag / m_Ag\n",
    "print(n_Ag)\n",
    "\n",
    "k = lambda n: (3*pi**2*n)**(1/3)\n",
    "v = lambda k,m: hbar*k/m_e\n",
    "T = lambda k,m: hbar**2 * k**2 / (2*k_B*m_e)\n",
    "print(f\"{k(6e28):.3g}\")\n",
    "k_Ag = k(n_Ag)\n",
    "v_Ag = v(k_Ag, m_Ag)\n",
    "T_Ag = T(k_Ag, m_Ag)\n",
    "E_Ag = T_Ag * k_B\n",
    "\n",
    "Ag = [k_Ag, v_Ag, E_Ag ,T_Ag]\n",
    "\n",
    "print(f\"Nr.2 (a)\\n{k_Ag = :.3}\\n{v_Ag = :.3}\\n{E_Ag = :.3}\\n{T_Ag = :.3}\\n\")\n",
    "\n",
    "# (b)\n",
    "rho_He = 0.081e3\n",
    "M_He = 3.02e-3\n",
    "m_He = M_He/N_A\n",
    "n_He = rho_He / m_He\n",
    "\n",
    "k_He = k(n_He)\n",
    "v_He = v(k_He, m_He)\n",
    "T_He = T(k_He, m_He)\n",
    "E_He = T_He * k_B\n",
    "\n",
    "He = [k_He, v_He, E_He, T_He]\n",
    "\n",
    "print(f\"\\n(b)\\n{k_He = :.3}\\n{v_He = :.3}\\n{E_He = :.3}\\n{T_He = :.3}\\n\")\n",
    "\n",
    "headers = [r\"$k_F$ in $\\ufrac 1m$ \",\n",
    "           r\"$v_F$ in $\\ufrac ms$\",\n",
    "           r\"$E_F$ in $\\u J$\",\n",
    "           r\"$T_F$ in $\\u K$\"]\n",
    "tabular(np.transpose([Ag,He]), firstcol=[\"Ag\",r\"${}^3$He\"], headers=headers, raw=True)# filename=\"table2\""
   ]
  },
  {
   "cell_type": "code",
   "execution_count": 24,
   "metadata": {},
   "outputs": [
    {
     "name": "stdout",
     "output_type": "stream",
     "text": [
      "7.63e+09\n",
      "-0.0224\n"
     ]
    }
   ],
   "source": [
    "# Nr.3\n",
    "from scipy.constants import e,h,c\n",
    "E_F = 3.14 * e\n",
    "p = 1/(5*pi**2) * (2*m_e/hbar**2)**(3/2) * E_F**(5/2)\n",
    "print(f\"{p:.3g}\")\n",
    "print(f\"{1-p/7.46e9:.3g}\")"
   ]
  },
  {
   "cell_type": "code",
   "execution_count": 20,
   "metadata": {},
   "outputs": [
    {
     "name": "stdout",
     "output_type": "stream",
     "text": [
      "0.10340799914574214\n"
     ]
    }
   ],
   "source": [
    "# Nr.5\n",
    "delta = 4*k_B * 300\n",
    "print(delta/e)"
   ]
  },
  {
   "cell_type": "code",
   "execution_count": 25,
   "metadata": {},
   "outputs": [
    {
     "name": "stdout",
     "output_type": "stream",
     "text": [
      "2.3022254854085973\n",
      "5.385406391294275e-07\n"
     ]
    }
   ],
   "source": [
    "# Nr.2\n",
    "L = 1.4e-9\n",
    "E0 = 6*pi**2 * hbar**2 / (m_e * L**2)\n",
    "print(E0/e)\n",
    "print(h*c/E0)"
   ]
  }
 ],
 "metadata": {
  "kernelspec": {
   "display_name": "main",
   "language": "python",
   "name": "python3"
  },
  "language_info": {
   "codemirror_mode": {
    "name": "ipython",
    "version": 3
   },
   "file_extension": ".py",
   "mimetype": "text/x-python",
   "name": "python",
   "nbconvert_exporter": "python",
   "pygments_lexer": "ipython3",
   "version": "3.12.4"
  }
 },
 "nbformat": 4,
 "nbformat_minor": 2
}
