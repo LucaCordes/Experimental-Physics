{
 "cells": [
  {
   "cell_type": "markdown",
   "id": "a78013ad-79d4-4d4d-b328-fb5efc205386",
   "metadata": {
    "tags": []
   },
   "source": [
    "Durch Ergänzung und Anwendung eines [Jupyter-Notebooks](https://jupyter-notebook.readthedocs.io/en/latest/notebook.html) auf dem [RWTH Jupyter Hub](https://jupyter.rwth-aachen.de/) sollen einige einfache Rechnungen mit den Dichten einiger bekannter Elemente gemacht werden, s.u.\n",
    "\n",
    "Das Jupyter-Notebook besteht aus (meistens) abwechselnden Zellen von Text oder Python-Code. Dieser gesamte Textblock und die weiteren Beschreibungstexte sind in [Markdown](https://www.markdownguide.org/basic-syntax) geschrieben. Auch [LaTeX](https://en.wikibooks.org/wiki/LaTeX/Mathematics)-[Mathesymbole](https://www.overleaf.com/learn/latex/Mathematical_expressions) usw. lassen sich direkt im Text verwenden, z.B. wird aus ```$\\alpha$``` dann $\\alpha$.\n",
    "\n",
    "Die Markdown-Zellen kann man nach einem ```Doppelklick``` darauf bearbeiten. Anschließend springt man durch gleichzeitiges Drücken von ```Shift+Enter``` aus der bearbeiteten Markdown-Zelle in die darunter befindliche Zelle.\n",
    "\n",
    "Die Python-Codezellen kann man nach einem einfachen Mausklick bearbeiten. Durch gleichzeitiges Drücken von ```Shift+Enter``` wird der darin enthaltene Python-Code dann ausgeführt und z.B. Ergebnisse einer Berechnung unterhalt der Zelle ausgegeben.\n",
    "\n",
    "#### Literatur\n",
    "- LaTeX: https://link.springer.com/book/10.1007/978-3-658-34430-6\n",
    "- Jupyter: https://link.springer.com/book/10.1007/978-3-658-37723-6\n",
    "- Python: https://link.springer.com/book/10.1007/978-3-658-28976-8"
   ]
  },
  {
   "cell_type": "markdown",
   "id": "ce063013-a6c3-4f77-9522-471338eba061",
   "metadata": {},
   "source": [
    "### Aufgabe 6: Dichten - 3 Punkte ($1 + 1 + 1$)\n",
    "\n",
    "a) In der Python-Codezelle unterhalb dieses Textes ist die Funktion ```density()``` abgebildet. Diese erwartet als Parameter (```elem```) einen aus zwei Buchstaben bestehenden String des Elementsymbols, also z.B. \"Au\" für Gold. Wenn das eingegebene Elementsymbol bekannt ist, liefert die Funktion die Dichte des jeweiligen Elements in g/cm$^3$, andernfalls wird der Wert Null ausgegeben.\n",
    "\n",
    "Definieren Sie die Funktion im Kontext dieses Jupyter-Notebooks durch einen Klick in die Codezelle und anschließendes Drücken von ```Shift+Enter```."
   ]
  },
  {
   "cell_type": "code",
   "execution_count": 1,
   "id": "6f0c9dd8-380d-44a1-a50a-b93fe5a4997c",
   "metadata": {},
   "outputs": [],
   "source": [
    "def density(elem=''):    # Funktion zur Ausgabe der Dichten einiger chemischer Elemente in g/cm^3\n",
    "    if (elem=='Li'):     # Lithium\n",
    "        return 0.534\n",
    "    elif (elem=='Al'):   # Aluminium\n",
    "        return 2.70\n",
    "    elif (elem=='Fe'):   # Eisen\n",
    "        return 7.87\n",
    "    elif (elem=='Cu'):   # Kupfer\n",
    "        return 8.92\n",
    "    elif (elem=='Au'):   # Gold\n",
    "        return 19.3\n",
    "    elif (elem=='Pb'):   # Blei\n",
    "        return 11.3\n",
    "    else:\n",
    "        return 0."
   ]
  },
  {
   "cell_type": "markdown",
   "id": "53f2081b-1836-4689-8181-bb892e4f8549",
   "metadata": {},
   "source": [
    "Nutzen Sie die ```print()```-Funktion von Python (s.u.), um die Dichten von Gold, Kupfer und Aluminium mit drei Dezimalstellen auszugeben. Der Platzhalter ```%.nf``` steht für eine Dezimalzahl mit n Nachkommastellen."
   ]
  },
  {
   "cell_type": "code",
   "execution_count": 2,
   "id": "f659bd27",
   "metadata": {},
   "outputs": [
    {
     "name": "stdout",
     "output_type": "stream",
     "text": [
      "Dies ist ein Test: 1.2346\n",
      "\n"
     ]
    }
   ],
   "source": [
    "print(\"Dies ist ein Test: %.4f\"%1.23456789) # Test der print()-Funktion\n",
    "print(\"\")"
   ]
  },
  {
   "cell_type": "markdown",
   "id": "5a347552",
   "metadata": {},
   "source": [
    "b) Die [NumPy](https://numpy.org/)-Programmbibliothek stellt Datenstrukturen und Funktionen für numerische Berechnugen mit Python zur Verfügung. Wir benötigen Sie zur Berechnung der dritten Wurzel mit Hilfe der Funktion ```cbrt()```.\n",
    "\n",
    "Importieren Sie das Modul ```numpy``` unter dem Aliasnamen ```np``` durch einen Klick in die Codezelle und anschließendes Drücken von ```Shift+Enter``` und berechnen Sie mit der Funktion ```cbrt()``` die dritte Wurzel der Zahl 1,331, geben Sie ihr Ergebnis mit der ```print()```-Funktion und zwei Dezimalstellen aus. Bedingt durch den Aliasnamen muss die Funktion hier als ```np.cbrt()``` verwendet werden."
   ]
  },
  {
   "cell_type": "code",
   "execution_count": 3,
   "id": "a7bbcb14-5534-4d82-afac-40c10abe0ac8",
   "metadata": {},
   "outputs": [
    {
     "name": "stdout",
     "output_type": "stream",
     "text": [
      "\n"
     ]
    }
   ],
   "source": [
    "import numpy as np    # das \"numpy\"-Modul importieren (unter dem Aliasnamen \"np\")\n",
    "\n",
    "# die numpy-Funktion \"cbrt(Z)\" berechnet die dritte Wurzel einer Zahl \"Z\"\n",
    "print(\"\")"
   ]
  },
  {
   "cell_type": "markdown",
   "id": "b3719ccd-55e7-4fa9-b8f1-3339e65ce588",
   "metadata": {},
   "source": [
    "Definieren Sie nun zwei Umrechnungsfaktoren, von g/cm$^3$ in kg/cm$^3$ sowie von g/cm$^3$ in kg/m$^3$. Ein Beispiel für die Umrechnung von Stunden in Sekunden finden Sie hier bereits:"
   ]
  },
  {
   "cell_type": "code",
   "execution_count": 4,
   "id": "a3a865e0-7a78-4943-9358-fcf5a193cab3",
   "metadata": {},
   "outputs": [],
   "source": [
    "U_h_in_s = 3600 # Umrechnungsfaktor von Stunden in Sekunden\n"
   ]
  },
  {
   "cell_type": "markdown",
   "id": "9b54f790-ef04-4a8e-a3aa-99bf6830aa76",
   "metadata": {},
   "source": [
    "Berechnen Sie nun die Kantenlängen (in cm) von 1,31 kg schweren Würfeln aus Gold, Eisen und Aluminium. Geben Sie ihr Ergebnis mit der ```print()```-Funktion und drei Dezimalstellen aus."
   ]
  },
  {
   "cell_type": "code",
   "execution_count": 5,
   "id": "7ba312a4-4b24-4171-b0a7-ee64835ec6b4",
   "metadata": {},
   "outputs": [
    {
     "name": "stdout",
     "output_type": "stream",
     "text": [
      "\n"
     ]
    }
   ],
   "source": [
    "print(\"\")"
   ]
  },
  {
   "cell_type": "markdown",
   "id": "240fe77e-2169-4e7e-836c-3f7516a65fa4",
   "metadata": {},
   "source": [
    "c) Berechnen Sie nun die Gewichte von Würfeln mit einem Volumen von 0,725 m$^3$ aus Blei, Kupfer bzw. Lithium. Geben Sie ihr Ergebnis mit der ```print()```-Funktion und einer Dezimalstelle aus."
   ]
  },
  {
   "cell_type": "code",
   "execution_count": 6,
   "id": "95761bc5-ba7e-4674-9ab6-72fafb6aa098",
   "metadata": {},
   "outputs": [
    {
     "name": "stdout",
     "output_type": "stream",
     "text": [
      "\n"
     ]
    }
   ],
   "source": [
    "print(\"\")"
   ]
  },
  {
   "cell_type": "markdown",
   "id": "b15ccc9b",
   "metadata": {},
   "source": [
    "Exportieren oder Drucken Sie ihr Jupyter-Notebook als PDF und hängen es an Ihre sonstigen Lösungen an. Laden Sie bitte in [moodle](https://moodle.rwth-aachen.de/course/view.php?id=27141) zusätzlich auch die \".ipynb\"-Datei des Notebooks hoch."
   ]
  },
  {
   "cell_type": "code",
   "execution_count": null,
   "id": "4c02f0a3",
   "metadata": {},
   "outputs": [],
   "source": []
  }
 ],
 "metadata": {
  "kernelspec": {
   "display_name": "Python 3 (ipykernel)",
   "language": "python",
   "name": "python3"
  },
  "language_info": {
   "codemirror_mode": {
    "name": "ipython",
    "version": 3
   },
   "file_extension": ".py",
   "mimetype": "text/x-python",
   "name": "python",
   "nbconvert_exporter": "python",
   "pygments_lexer": "ipython3",
   "version": "3.9.7"
  }
 },
 "nbformat": 4,
 "nbformat_minor": 5
}
